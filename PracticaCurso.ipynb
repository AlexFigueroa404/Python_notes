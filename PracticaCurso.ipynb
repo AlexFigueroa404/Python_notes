{
 "cells": [
  {
   "cell_type": "markdown",
   "id": "4b3f09ed",
   "metadata": {
    "heading_collapsed": true
   },
   "source": [
    "# Listas"
   ]
  },
  {
   "cell_type": "markdown",
   "id": "a87f2a37",
   "metadata": {
    "hidden": true
   },
   "source": [
    "Python tiene varios tipos de datos compuestos, utilizados para agrupar otros valores. Las listas pueden contener ítems de diferentes tipos, pero usualmente son del mismo tipo.\n",
    "Son *mutables* y *dinámicas*, lo cual es la principal diferencia con los *sets* y las *tuplas*.\n",
    "\n",
    "Las listas en Python son uno de los tipos o estructuras de datos más versátiles del lenguaje, ya que permiten almacenar un conjunto arbitrario de datos. Es decir, podemos guardar en ellas prácticamente lo que sea.\n",
    "\n",
    "**propiedades de las listas:**\n",
    "* Son ordenadas, mantienen el orden en el que han sido definidas\n",
    "* Pueden ser formadas por tipos arbitrarios\n",
    "* Pueden ser indexadas con ```[i]```.\n",
    "* Se pueden anidar, es decir, meter una dentro de la otra.\n",
    "* Son mutables, ya que sus elementos pueden ser modificados.\n",
    "* Son dinámicas, ya que se pueden añadir o eliminar elementos.\n",
    "\n"
   ]
  },
  {
   "cell_type": "markdown",
   "id": "a9b65b2a",
   "metadata": {
    "heading_collapsed": true,
    "hidden": true
   },
   "source": [
    "### **Creacion**\n",
    "\n",
    "---"
   ]
  },
  {
   "cell_type": "markdown",
   "id": "ff5a7a81",
   "metadata": {
    "hidden": true
   },
   "source": [
    "Una lista se crea con ```[ ]``` separando sus elementos con *comas* ```,```"
   ]
  },
  {
   "cell_type": "code",
   "execution_count": 3,
   "id": "55755abf",
   "metadata": {
    "hidden": true,
    "scrolled": true
   },
   "outputs": [
    {
     "name": "stdout",
     "output_type": "stream",
     "text": [
      "<class 'list'> ['zebra', 'araña', 'pez', 'tortuga']\n",
      "<class 'list'> [1, 2, 3, 4, 5]\n"
     ]
    }
   ],
   "source": [
    "animales = ['zebra', 'araña', 'pez', 'tortuga']\n",
    "numeros = [1,2,3,4,5]\n",
    "print(type(animales), animales)\n",
    "print(type(numeros), numeros)\n",
    "# type() retorna el tipo de dato "
   ]
  },
  {
   "cell_type": "markdown",
   "id": "097d33c3",
   "metadata": {
    "hidden": true
   },
   "source": [
    "También se puede crear usando _list_ y pasando un objeto _iterable_."
   ]
  },
  {
   "cell_type": "markdown",
   "id": "e27e102e",
   "metadata": {
    "hidden": true
   },
   "source": [
    "**Crear una lista con ```list()```**"
   ]
  },
  {
   "cell_type": "code",
   "execution_count": 4,
   "id": "1afb161b",
   "metadata": {
    "hidden": true
   },
   "outputs": [
    {
     "name": "stdout",
     "output_type": "stream",
     "text": [
      "<class 'list'> ['a', 'b', 'c', 'd', 'e']\n"
     ]
    }
   ],
   "source": [
    "animales = list('abcde')\n",
    "print(type(animales), animales)"
   ]
  },
  {
   "cell_type": "markdown",
   "id": "ae1fa4a6",
   "metadata": {
    "hidden": true
   },
   "source": [
    " **Crear listas vacias**"
   ]
  },
  {
   "cell_type": "code",
   "execution_count": 14,
   "id": "559f234b",
   "metadata": {
    "hidden": true
   },
   "outputs": [
    {
     "name": "stdout",
     "output_type": "stream",
     "text": [
      "<class 'list'> []\n"
     ]
    }
   ],
   "source": [
    "animales = []\n",
    "print(type(animales), animales)"
   ]
  },
  {
   "cell_type": "code",
   "execution_count": 15,
   "id": "7c5fbf71",
   "metadata": {
    "hidden": true
   },
   "outputs": [
    {
     "name": "stdout",
     "output_type": "stream",
     "text": [
      "<class 'list'> []\n"
     ]
    }
   ],
   "source": [
    "animales = list()\n",
    "print(type(animales), animales)"
   ]
  },
  {
   "cell_type": "markdown",
   "id": "82b271f4",
   "metadata": {
    "hidden": true
   },
   "source": [
    "Si tenemos una lista *x* con **n** elementos almacenados en ella, podemos acceder a los mismos usando **corchetes** y un **índice**, que va desde **0** a **n-1** siendo **n** el tamaño de la lista.\n",
    "\n",
    "Si se intenta acceder a un índice que está fuera del rango de la lista, el intérprete lanzará la excepción ```IndexError```.\n",
    "De igual modo, si se utiliza un índice que no es un número entero, se lanzará la excepción ```TypeError```:"
   ]
  },
  {
   "cell_type": "markdown",
   "id": "ca1c697a",
   "metadata": {
    "heading_collapsed": true,
    "hidden": true
   },
   "source": [
    "### **Longitud**\n",
    "\n",
    "---"
   ]
  },
  {
   "cell_type": "markdown",
   "id": "23735054",
   "metadata": {
    "hidden": true
   },
   "source": [
    "Como cualquier tipo secuencia, para conocer la longitud de una lista se hace uso de la función ```len()```.\n"
   ]
  },
  {
   "cell_type": "code",
   "execution_count": 89,
   "id": "734ca527",
   "metadata": {
    "hidden": true
   },
   "outputs": [
    {
     "name": "stdout",
     "output_type": "stream",
     "text": [
      "5\n"
     ]
    }
   ],
   "source": [
    "vocales = ['a', 'e', 'i', 'o', 'u']\n",
    "print(len(vocales))"
   ]
  },
  {
   "cell_type": "markdown",
   "id": "fd447ae5",
   "metadata": {
    "heading_collapsed": true,
    "hidden": true
   },
   "source": [
    "### **Acceso y Modificacion**\n",
    "\n",
    "---"
   ]
  },
  {
   "cell_type": "markdown",
   "id": "732a7a7a",
   "metadata": {
    "heading_collapsed": true,
    "hidden": true
   },
   "source": [
    "#### **Acceso**"
   ]
  },
  {
   "cell_type": "markdown",
   "id": "85520c48",
   "metadata": {
    "hidden": true
   },
   "source": [
    "**Acceso a un elemento especifico**"
   ]
  },
  {
   "cell_type": "code",
   "execution_count": 85,
   "id": "963eb3fd",
   "metadata": {
    "hidden": true
   },
   "outputs": [
    {
     "name": "stdout",
     "output_type": "stream",
     "text": [
      "Bulbasaur\n",
      "Charmander\n",
      "Pikachu\n"
     ]
    }
   ],
   "source": [
    "pokemon = ['Bulbasaur','Charmander','Pikachu']\n",
    "print(pokemon[0])\n",
    "print(pokemon[1]) \n",
    "print(pokemon[2]) "
   ]
  },
  {
   "cell_type": "markdown",
   "id": "fe811025",
   "metadata": {
    "hidden": true
   },
   "source": [
    "Está permitido usar índices negativos para acceder a los elementos de una secuencia. En este caso, el índice ```-1``` hace referencia al último elemento de la secuencia, el ```-2``` al penúltimo y así, sucesivamente"
   ]
  },
  {
   "cell_type": "markdown",
   "id": "0d81861c",
   "metadata": {
    "hidden": true
   },
   "source": [
    "**Acceso al último y  penúltimo elemento**"
   ]
  },
  {
   "cell_type": "code",
   "execution_count": 22,
   "id": "31be12fe",
   "metadata": {
    "hidden": true
   },
   "outputs": [
    {
     "name": "stdout",
     "output_type": "stream",
     "text": [
      "Lucario\n",
      "Squirtle\n"
     ]
    }
   ],
   "source": [
    "pokemon = ['Snorlax','Mewtwo','Squirtle','Lucario']\n",
    "print(pokemon[-1])\n",
    "print(pokemon[-2])"
   ]
  },
  {
   "cell_type": "markdown",
   "id": "03105cd0",
   "metadata": {
    "hidden": true
   },
   "source": [
    "También es posible acceder a un subconjunto de elementos de una lista utilizando rangos en los índices. Esto es usando el operador ```[:]```:\n",
    "\n",
    "Todas las operaciones de *slice* ```[:]``` retornan una nueva lista que contiene los elementos pedidos."
   ]
  },
  {
   "cell_type": "code",
   "execution_count": 5,
   "id": "5372ce0d",
   "metadata": {
    "hidden": true
   },
   "outputs": [
    {
     "name": "stdout",
     "output_type": "stream",
     "text": [
      "['Rattata', 'Pikachu', 'Pidgeotto', 'mewto']\n",
      "['Snorlax', 'Squirtle', 'Lucario', 'Rattata', 'Pikachu', 'Pidgeotto', 'mewto']\n"
     ]
    }
   ],
   "source": [
    "pokemon = ['Snorlax','Squirtle','Lucario','Rattata','Pikachu','Pidgeotto']\n",
    "pokemon_copia = pokemon[3:]\n",
    "print(pokemon_copia)\n",
    "print(pokemon)"
   ]
  },
  {
   "cell_type": "markdown",
   "id": "cf6b8521",
   "metadata": {
    "hidden": true
   },
   "source": [
    "**Acceso a un subconjunto de elementos**"
   ]
  },
  {
   "cell_type": "code",
   "execution_count": 6,
   "id": "b977794f",
   "metadata": {
    "hidden": true,
    "scrolled": false
   },
   "outputs": [
    {
     "name": "stdout",
     "output_type": "stream",
     "text": [
      "['Lucario', 'Rattata', 'Pikachu', 'Pidgeotto']\n",
      "['Snorlax', 'Squirtle', 'Lucario']\n",
      "['Lucario', 'Rattata', 'Pikachu']\n"
     ]
    }
   ],
   "source": [
    "pokemon = ['Snorlax','Squirtle','Lucario','Rattata','Pikachu','Pidgeotto']\n",
    "print(pokemon[2:])\n",
    "print(pokemon[:5])\n",
    "print(pokemon[2:5])"
   ]
  },
  {
   "cell_type": "markdown",
   "id": "c82babf8",
   "metadata": {
    "hidden": true
   },
   "source": [
    "También es posible acceder a los elementos de una lista indicando un paso con el operador ```[::]```"
   ]
  },
  {
   "cell_type": "markdown",
   "id": "114cab99",
   "metadata": {
    "hidden": true
   },
   "source": [
    "**Accediendo a los elementos indicando pasos**"
   ]
  },
  {
   "cell_type": "code",
   "execution_count": 11,
   "id": "6f074e4b",
   "metadata": {
    "hidden": true
   },
   "outputs": [
    {
     "name": "stdout",
     "output_type": "stream",
     "text": [
      "[5, 7, 9]\n",
      "[1, 3, 5, 7, 9]\n"
     ]
    }
   ],
   "source": [
    "numeros = [1,2,3,4,5,6,7,8,9,10]\n",
    "print(numeros[4::2])\n",
    "print(numeros[::2])"
   ]
  },
  {
   "cell_type": "markdown",
   "id": "41c8b159",
   "metadata": {
    "hidden": true
   },
   "source": [
    "**Accediendo a un subconjunto indicando pasos**"
   ]
  },
  {
   "cell_type": "code",
   "execution_count": 70,
   "id": "960313a0",
   "metadata": {
    "hidden": true
   },
   "outputs": [
    {
     "name": "stdout",
     "output_type": "stream",
     "text": [
      "['b', 'd', 'f', 'h', 'j']\n",
      "['b', 'e', 'h', 'k']\n"
     ]
    }
   ],
   "source": [
    "letras = ['a','b','c','d','e','f','g','h','i','j','k']\n",
    "print(letras[1::2])\n",
    "print(letras[1::3])"
   ]
  },
  {
   "cell_type": "markdown",
   "id": "620e8aac",
   "metadata": {
    "heading_collapsed": true,
    "hidden": true
   },
   "source": [
    "#### **Modificacion**"
   ]
  },
  {
   "cell_type": "markdown",
   "id": "e9c0fa65",
   "metadata": {
    "hidden": true
   },
   "source": [
    "Es posible modificar un elemento de una lista en Python con el operador de asignación ```=```. Para ello, lo único que necesitas conocer es el índice del elemento que quieres modificar o el rango de índices"
   ]
  },
  {
   "cell_type": "markdown",
   "id": "bf0e30b7",
   "metadata": {
    "hidden": true
   },
   "source": [
    "**Modificar un elemento de la lista**"
   ]
  },
  {
   "cell_type": "code",
   "execution_count": 75,
   "id": "197bbc2a",
   "metadata": {
    "hidden": true,
    "scrolled": true
   },
   "outputs": [
    {
     "name": "stdout",
     "output_type": "stream",
     "text": [
      "['Bulbasaur', 'Charmander', 'Pikachu']\n",
      "['Bulbasaur', 'Mewtwo', 'Pikachu']\n"
     ]
    }
   ],
   "source": [
    "pokemon = ['Bulbasaur','Charmander','Pikachu']\n",
    "print(pokemon)\n",
    "pokemon[1] = 'Mewtwo'\n",
    "print(pokemon)"
   ]
  },
  {
   "cell_type": "markdown",
   "id": "b5f7d48a",
   "metadata": {
    "hidden": true
   },
   "source": [
    "**Modificar elementos definiendo un rango**"
   ]
  },
  {
   "cell_type": "code",
   "execution_count": 13,
   "id": "244203f3",
   "metadata": {
    "hidden": true,
    "scrolled": false
   },
   "outputs": [
    {
     "name": "stdout",
     "output_type": "stream",
     "text": [
      "['a', 'o', 'o', 'o', 'u']\n",
      "['a', 'e', 'i', 'o', 'u']\n"
     ]
    }
   ],
   "source": [
    "vocales = ['a', 'o', 'o', 'o', 'u']\n",
    "print(vocales)\n",
    "vocales[1:3] = ['e','i']\n",
    "print(vocales)\n"
   ]
  },
  {
   "cell_type": "markdown",
   "id": "dec82280",
   "metadata": {
    "hidden": true
   },
   "source": [
    "**Metodos**"
   ]
  },
  {
   "cell_type": "markdown",
   "id": "7875f93c",
   "metadata": {
    "hidden": true
   },
   "source": [
    "<table class=\"post-table\"><thead><tr><td>Método</td><td>Descripción</td></tr></thead><tbody><tr><td><code>append()</code></td><td>Añade un nuevo elemento al final de la lista.</td></tr><tr><td><code>extend()</code></td><td>Añade un grupo de elementos (iterables) al final de la lista.</td></tr><tr><td><code>insert(indice,elemento)</code></td><td>Inserta un elemento en una posición concreta de la lista.</td></tr><tr><td><code>remove(elemento)</code></td><td>Elimina la primera ocurrencia del elemento en la lista.</td></tr><tr><td><code>pop([i])</code></td><td>Obtiene y elimina el elemento de la lista en la posición i. Si no se especifica, obtiene y elimina el último elemento.</td></tr><tr><td><code>clear()</code></td><td>Borra todos los elementos de la lista.</td></tr><tr><td><code>index(elemento)</code></td><td>Obtiene el índice de la primera ocurrencia del elemento en la lista. Si el elemento no se encuentra, se lanza la excepción <code>ValueError</code>.</td></tr><tr><td><code>count(elemento)</code></td><td>Devuelve el número de ocurrencias del elemento en la lista.</td></tr><tr><td><code>sort()</code></td><td>Ordena los elementos de la lista utilizando el operador <code>&lt;</code>.</td></tr><tr><td><code>reverse()</code></td><td>Obtiene los elementos de la lista en orden inverso.</td></tr><tr><td><code>copy()</code></td><td>Devuelve una copia poco profunda de la lista.</td></tr></tbody></table>"
   ]
  },
  {
   "cell_type": "markdown",
   "id": "b2451898",
   "metadata": {
    "heading_collapsed": true,
    "hidden": true
   },
   "source": [
    "##### Uso del método ```append()```"
   ]
  },
  {
   "cell_type": "code",
   "execution_count": 94,
   "id": "cac519f5",
   "metadata": {
    "hidden": true
   },
   "outputs": [
    {
     "name": "stdout",
     "output_type": "stream",
     "text": [
      "['Squirtle', 'Lucario', 'Rattata', 'Pikachu', 'Pidgeotto']\n",
      "['Squirtle', 'Lucario', 'Rattata', 'Pikachu', 'Pidgeotto', 'Snorlax']\n"
     ]
    }
   ],
   "source": [
    "pokemon = ['Squirtle','Lucario','Rattata','Pikachu','Pidgeotto']\n",
    "print(pokemon)\n",
    "pokemon.append('Snorlax')\n",
    "print(pokemon)"
   ]
  },
  {
   "cell_type": "markdown",
   "id": "2f79f993",
   "metadata": {
    "heading_collapsed": true,
    "hidden": true
   },
   "source": [
    "##### Uso del método  ```extend()```"
   ]
  },
  {
   "cell_type": "code",
   "execution_count": 100,
   "id": "b0802cfb",
   "metadata": {
    "hidden": true
   },
   "outputs": [
    {
     "name": "stdout",
     "output_type": "stream",
     "text": [
      "[]\n",
      "['squirtle', 'golduck', 'Blastoise']\n",
      "['squirtle', 'golduck', 'Blastoise', 'Gliscor', 'Excadrill', 'Diglett']\n"
     ]
    }
   ],
   "source": [
    "pokemon_agua = ['squirtle','golduck','Blastoise']\n",
    "pokemon_tierra = ['Gliscor','Excadrill','Diglett']\n",
    "pokemon = []\n",
    "print(pokemon)\n",
    "pokemon.extend(pokemon_agua)\n",
    "print(pokemon)\n",
    "pokemon.extend(pokemon_tierra)\n",
    "print(pokemon)"
   ]
  },
  {
   "cell_type": "markdown",
   "id": "0ff30c36",
   "metadata": {
    "heading_collapsed": true,
    "hidden": true
   },
   "source": [
    "##### Uso del método ```insert()```"
   ]
  },
  {
   "cell_type": "code",
   "execution_count": 112,
   "id": "0ac8526b",
   "metadata": {
    "hidden": true
   },
   "outputs": [
    {
     "name": "stdout",
     "output_type": "stream",
     "text": [
      "[1, 2, 3, 5, 6, 7, 8, 9]\n",
      "[1, 2, 3, 4, 5, 6, 7, 8, 9]\n"
     ]
    }
   ],
   "source": [
    "numeros = [1,2,3,5,6,7,8,9]\n",
    "print(numeros)\n",
    "numeros.insert(3,4)\n",
    "print(numeros)"
   ]
  },
  {
   "cell_type": "markdown",
   "id": "59dc0b68",
   "metadata": {
    "heading_collapsed": true,
    "hidden": true
   },
   "source": [
    "#####  Uso del método ```remove()```"
   ]
  },
  {
   "cell_type": "code",
   "execution_count": 120,
   "id": "00619c16",
   "metadata": {
    "hidden": true
   },
   "outputs": [
    {
     "name": "stdout",
     "output_type": "stream",
     "text": [
      "['Agumon', 'Devimon', 'Piedmon', 'Angemon']\n",
      "['Agumon', 'Piedmon', 'Angemon']\n"
     ]
    }
   ],
   "source": [
    "digimon = ['Agumon','Devimon','Piedmon','Angemon']\n",
    "digimon2 = ['Agumon','Devimon','Piedmon','Angemon','Devimon']\n",
    "print(digimon)\n",
    "digimon.remove('Devimon')\n",
    "print(digimon)"
   ]
  },
  {
   "cell_type": "markdown",
   "id": "9086cf51",
   "metadata": {
    "hidden": true
   },
   "source": [
    "##### Uso del método ```pop()```"
   ]
  },
  {
   "cell_type": "markdown",
   "id": "7ff997be",
   "metadata": {
    "hidden": true
   },
   "source": [
    "**Sin pasar indice**"
   ]
  },
  {
   "cell_type": "code",
   "execution_count": 127,
   "id": "74227e90",
   "metadata": {
    "hidden": true,
    "scrolled": true
   },
   "outputs": [
    {
     "name": "stdout",
     "output_type": "stream",
     "text": [
      "['a', 'b', 'c', 'd']\n",
      "['a', 'b', 'c']\n"
     ]
    }
   ],
   "source": [
    "letras = ['a','b','c','d']\n",
    "print(letras) \n",
    "letras.pop()\n",
    "print(letras)"
   ]
  },
  {
   "cell_type": "markdown",
   "id": "ee93e9c7",
   "metadata": {
    "hidden": true
   },
   "source": [
    "**Pasando indice**"
   ]
  },
  {
   "cell_type": "code",
   "execution_count": 130,
   "id": "3af8e441",
   "metadata": {
    "hidden": true
   },
   "outputs": [
    {
     "name": "stdout",
     "output_type": "stream",
     "text": [
      "['a', 'b', 'c', 'd']\n",
      "['a', 'b', 'd']\n"
     ]
    }
   ],
   "source": [
    "letras = ['a','b','c','d']\n",
    "print(letras)\n",
    "letras.pop(2)\n",
    "print(letras)"
   ]
  },
  {
   "cell_type": "markdown",
   "id": "5496f2db",
   "metadata": {
    "heading_collapsed": true,
    "hidden": true
   },
   "source": [
    "##### Uso del método ```clear()```"
   ]
  },
  {
   "cell_type": "code",
   "execution_count": 133,
   "id": "586bb4b3",
   "metadata": {
    "hidden": true
   },
   "outputs": [
    {
     "name": "stdout",
     "output_type": "stream",
     "text": [
      "['Squirtle', 'Lucario', 'Rattata', 'Pikachu', 'Pidgeotto']\n",
      "[]\n"
     ]
    }
   ],
   "source": [
    "pokemon = ['Squirtle','Lucario','Rattata','Pikachu','Pidgeotto']\n",
    "print(pokemon)\n",
    "pokemon.clear()\n",
    "print(pokemon)"
   ]
  },
  {
   "cell_type": "markdown",
   "id": "c91241ab",
   "metadata": {
    "heading_collapsed": true,
    "hidden": true
   },
   "source": [
    "##### Uso del método ```index()```"
   ]
  },
  {
   "cell_type": "code",
   "execution_count": 5,
   "id": "c1af9979",
   "metadata": {
    "hidden": true
   },
   "outputs": [
    {
     "name": "stdout",
     "output_type": "stream",
     "text": [
      "['Squirtle', 'Lucario', 'Rattata', 'Pikachu', 'Pidgeotto']\n",
      "2\n",
      "4\n"
     ]
    }
   ],
   "source": [
    "pokemon = ['Squirtle','Lucario','Rattata','Pikachu','Pidgeotto']\n",
    "print(pokemon)\n",
    "print(pokemon.index('Rattata'))\n",
    "print(pokemon.index('Pidgeotto'))"
   ]
  },
  {
   "cell_type": "markdown",
   "id": "343bae83",
   "metadata": {
    "heading_collapsed": true,
    "hidden": true
   },
   "source": [
    "##### Uso del método ```count()```"
   ]
  },
  {
   "cell_type": "code",
   "execution_count": 13,
   "id": "f1d951ff",
   "metadata": {
    "hidden": true,
    "scrolled": false
   },
   "outputs": [
    {
     "name": "stdout",
     "output_type": "stream",
     "text": [
      "['Squirtle', 'Lucario', 'Rattata', 'Pikachu', 'Pidgeotto', 'Lucario', 'Lucario', 'Rattata']\n",
      "3\n",
      "1\n"
     ]
    }
   ],
   "source": [
    "pokemon = ['Squirtle','Lucario','Rattata','Pikachu','Pidgeotto','Lucario','Lucario',\n",
    "          'Rattata']\n",
    "print(pokemon)\n",
    "print(pokemon.count('Lucario'))\n",
    "print(pokemon.count('Squirtle'))"
   ]
  },
  {
   "cell_type": "markdown",
   "id": "fc13c994",
   "metadata": {
    "heading_collapsed": true,
    "hidden": true
   },
   "source": [
    "##### Uso del método ```sort()```"
   ]
  },
  {
   "cell_type": "markdown",
   "id": "27fd87d7",
   "metadata": {
    "hidden": true
   },
   "source": [
    "**Ordena alfabeticamente**"
   ]
  },
  {
   "cell_type": "code",
   "execution_count": 23,
   "id": "37dbd0dc",
   "metadata": {
    "hidden": true,
    "scrolled": true
   },
   "outputs": [
    {
     "name": "stdout",
     "output_type": "stream",
     "text": [
      "['c', 'b', 'f', 'd', 'e', 'a']\n",
      "['a', 'b', 'c', 'd', 'e', 'f']\n"
     ]
    }
   ],
   "source": [
    "letras = ['c','b','f','d','e','a']\n",
    "print(letras)\n",
    "letras.sort()\n",
    "print(letras)"
   ]
  },
  {
   "cell_type": "markdown",
   "id": "12b7f8c5",
   "metadata": {
    "hidden": true
   },
   "source": [
    "**Ordena de menor a mayor**"
   ]
  },
  {
   "cell_type": "code",
   "execution_count": 24,
   "id": "0ca426ec",
   "metadata": {
    "hidden": true,
    "scrolled": true
   },
   "outputs": [
    {
     "name": "stdout",
     "output_type": "stream",
     "text": [
      "[1, 4, 2, 3, 5]\n",
      "[1, 2, 3, 4, 5]\n"
     ]
    }
   ],
   "source": [
    "numeros = [1,4,2,3,5]\n",
    "print(numeros)\n",
    "numeros.sort()\n",
    "print(numeros)"
   ]
  },
  {
   "cell_type": "markdown",
   "id": "b5460784",
   "metadata": {
    "hidden": true
   },
   "source": [
    "**Ordena descendente**"
   ]
  },
  {
   "cell_type": "code",
   "execution_count": 36,
   "id": "b312bfa1",
   "metadata": {
    "hidden": true,
    "scrolled": false
   },
   "outputs": [
    {
     "name": "stdout",
     "output_type": "stream",
     "text": [
      "[3, 1, 4, 2, 5]\n",
      "['a', 'b', 'd', 'c', 'e', 'f']\n",
      "[5, 4, 3, 2, 1]\n",
      "['f', 'e', 'd', 'c', 'b', 'a']\n"
     ]
    }
   ],
   "source": [
    "numeros = [3,1,4,2,5]\n",
    "letras = ['a','b','d','c','e','f']\n",
    "print(numeros)\n",
    "print(letras)\n",
    "numeros.sort(reverse=True)\n",
    "letras.sort(reverse=True)\n",
    "print(numeros)\n",
    "print(letras)"
   ]
  },
  {
   "cell_type": "markdown",
   "id": "df3f4dbd",
   "metadata": {
    "hidden": true
   },
   "source": [
    "```key``` especifica una función de un argumento que es empleada para extraer una clave de comparación de cada elemento"
   ]
  },
  {
   "cell_type": "markdown",
   "id": "f7d07a26",
   "metadata": {
    "hidden": true
   },
   "source": [
    "**ordenar usando clave de comparacion ```key```**"
   ]
  },
  {
   "cell_type": "code",
   "execution_count": 14,
   "id": "1f7d9d96",
   "metadata": {
    "hidden": true
   },
   "outputs": [
    {
     "name": "stdout",
     "output_type": "stream",
     "text": [
      "['Silent Swordsman', 'Chaos Hunter', 'The Creator', 'Flame Ruler', 'Soul Exchange', 'ho']\n",
      "longitud [16] carta Silent Swordsman\n",
      "longitud [12] carta Chaos Hunter\n",
      "longitud [11] carta The Creator\n",
      "longitud [11] carta Flame Ruler\n",
      "longitud [13] carta Soul Exchange\n",
      "longitud [2] carta ho\n",
      "['ho', 'The Creator', 'Flame Ruler', 'Chaos Hunter', 'Soul Exchange', 'Silent Swordsman']\n"
     ]
    }
   ],
   "source": [
    "cartas = ['Silent Swordsman','Chaos Hunter'\n",
    "          ,'The Creator','Flame Ruler','Soul Exchange']\n",
    "print(cartas)\n",
    "for i in cartas:\n",
    "    print('longitud [{}] carta {}'.format(len(i),i))\n",
    "cartas.sort(key=len)\n",
    "print(cartas)"
   ]
  },
  {
   "cell_type": "markdown",
   "id": "b9ad9398",
   "metadata": {
    "heading_collapsed": true,
    "hidden": true
   },
   "source": [
    "##### Uso del método ```reverse()```"
   ]
  },
  {
   "cell_type": "code",
   "execution_count": 17,
   "id": "71370919",
   "metadata": {
    "hidden": true
   },
   "outputs": [
    {
     "name": "stdout",
     "output_type": "stream",
     "text": [
      "['f', 'e', 'd', 'c', 'b', 'a']\n",
      "['a', 'b', 'c', 'd', 'e', 'f']\n"
     ]
    }
   ],
   "source": [
    "letras = ['f', 'e', 'd', 'c', 'b', 'a']\n",
    "print(letras)\n",
    "letras.reverse()\n",
    "print(letras)"
   ]
  },
  {
   "cell_type": "markdown",
   "id": "4fd077d6",
   "metadata": {
    "heading_collapsed": true,
    "hidden": true
   },
   "source": [
    "##### Uso del método ```copy()```"
   ]
  },
  {
   "cell_type": "code",
   "execution_count": 21,
   "id": "ef0fdd00",
   "metadata": {
    "hidden": true
   },
   "outputs": [
    {
     "name": "stdout",
     "output_type": "stream",
     "text": [
      "['Squirtle', 'Lucario', 'Rattata', 'Pikachu', 'Pidgeotto']\n",
      "['Squirtle', 'Lucario', 'Rattata', 'Pikachu', 'Pidgeotto']\n"
     ]
    }
   ],
   "source": [
    "pokemon = ['Squirtle','Lucario','Rattata','Pikachu','Pidgeotto']\n",
    "print(pokemon)\n",
    "pokemon_copia = pokemon.copy()\n",
    "print(pokemon_copia)"
   ]
  },
  {
   "cell_type": "markdown",
   "id": "eeebcdeb",
   "metadata": {
    "hidden": true
   },
   "source": [
    "Pertenece a la categoría de tipos secuenciales y, a diferencia de las listas, las tuplas son un tipo de secuencia inmutable. Esto quiere decir que una tupla no puede ser modificada (no se pueden añadir ni eliminar elementos).\n",
    "\n"
   ]
  },
  {
   "cell_type": "markdown",
   "id": "4f3d775a",
   "metadata": {
    "hidden": true
   },
   "source": [
    "Las tuplas se pueden construir de diferentes maneras:\n",
    "1. Usando un par de símbolos de paréntesis, para indicar una tupla vacía: ()\n",
    "2. Usando una coma al final, para crear una tupla de un único elemento: a, o (a,)\n",
    "3. Separando los elementos por comas: a, b, c o (a, b, c)\n",
    "4. Usando la función básica tuple() o tuple(iterable)"
   ]
  },
  {
   "cell_type": "markdown",
   "id": "24c9f2be",
   "metadata": {
    "hidden": true
   },
   "source": [
    "**1. Usando un par de símbolos de paréntesis, para indicar una tupla vacía: ()**"
   ]
  },
  {
   "cell_type": "code",
   "execution_count": 13,
   "id": "f977c129",
   "metadata": {
    "hidden": true,
    "scrolled": true
   },
   "outputs": [
    {
     "name": "stdout",
     "output_type": "stream",
     "text": [
      "<class 'tuple'>\n"
     ]
    }
   ],
   "source": [
    "pokemon = ()\n",
    "print(type(pokemon))"
   ]
  },
  {
   "cell_type": "markdown",
   "id": "3d668b75",
   "metadata": {
    "hidden": true
   },
   "source": [
    "**2. Usando una coma al final, para crear una tupla de un único elemento: a, o (a,)**"
   ]
  },
  {
   "cell_type": "code",
   "execution_count": 30,
   "id": "a8a146d3",
   "metadata": {
    "hidden": true,
    "scrolled": true
   },
   "outputs": [
    {
     "name": "stdout",
     "output_type": "stream",
     "text": [
      "<class 'str'> a\n",
      "<class 'tuple'> ('a',)\n",
      "<class 'tuple'> ('a',)\n"
     ]
    }
   ],
   "source": [
    "letrass= ('a') #sin coma al final lo toma como str\n",
    "print(type(pokemon),letras)\n",
    "letras = 'a',\n",
    "print(type(pokemon),letras)\n",
    "letras = ('a',)\n",
    "print(type(letras),letrase)"
   ]
  },
  {
   "cell_type": "markdown",
   "id": "17508347",
   "metadata": {
    "hidden": true
   },
   "source": [
    "**3. Separando los elementos por comas: a, b, c o (a, b, c)**"
   ]
  },
  {
   "cell_type": "code",
   "execution_count": 34,
   "id": "6c925647",
   "metadata": {
    "hidden": true,
    "scrolled": true
   },
   "outputs": [
    {
     "name": "stdout",
     "output_type": "stream",
     "text": [
      "<class 'tuple'> (1, 2, 3, 4, 5)\n",
      "<class 'tuple'> (1, 2, 3, 4, 5, 6, 7, 8, 9, 0)\n"
     ]
    }
   ],
   "source": [
    "numeros = 1,2,3,4,5\n",
    "print(type(numeros),numeros)\n",
    "numeros = (1,2,3,4,5,6,7,8,9,0)\n",
    "print(type(numeros),numeros)"
   ]
  },
  {
   "cell_type": "markdown",
   "id": "066d95a3",
   "metadata": {
    "hidden": true
   },
   "source": [
    "**4. Usando la función básica tuple() o tuple(iterable)**"
   ]
  },
  {
   "cell_type": "code",
   "execution_count": 33,
   "id": "d95639f6",
   "metadata": {
    "hidden": true,
    "scrolled": true
   },
   "outputs": [
    {
     "name": "stdout",
     "output_type": "stream",
     "text": [
      "<class 'tuple'> ('a', 'b', 'c')\n"
     ]
    }
   ],
   "source": [
    "letras = tuple('abc') # str es un elemento iterable por ello devuelve  ('a', 'b', 'c')\n",
    "print(type(letras),letras)\n",
    "letras = tuple()"
   ]
  },
  {
   "cell_type": "markdown",
   "id": "961ce930",
   "metadata": {
    "hidden": true
   },
   "source": [
    "Nótese que es la coma la que realmente construye la tupla, no los paréntesis. Los paréntesis son opcionales, excepto en el caso de la tupla vacía, o cuando se necesitan para evitar una ambigüedad sintáctica. Por ejemplo, ```f(a, b, c)``` es una llamada a una función con tres parámetros, pero ```f((a, b, c))``` es una llamada a una función con un único parámetro, en este caso una tupla de tres elementos."
   ]
  },
  {
   "cell_type": "markdown",
   "id": "b28222a5",
   "metadata": {
    "hidden": true
   },
   "source": [
    "Existen varias maneras de accesar a un elemento de una tupla"
   ]
  },
  {
   "cell_type": "markdown",
   "id": "ba052753",
   "metadata": {
    "hidden": true
   },
   "source": [
    "**Usando operador indice**"
   ]
  },
  {
   "cell_type": "markdown",
   "id": "561922bd",
   "metadata": {
    "hidden": true
   },
   "source": [
    "**Usando operador indice negativo**"
   ]
  },
  {
   "cell_type": "code",
   "execution_count": 9,
   "id": "6ee3f948",
   "metadata": {
    "hidden": true
   },
   "outputs": [
    {
     "name": "stdout",
     "output_type": "stream",
     "text": [
      "Pikachu\n",
      "Charmander\n"
     ]
    }
   ],
   "source": [
    "pokemon = ('Bulbasaur','Charmander','Pikachu')\n",
    "print(pokemon[-1])\n",
    "print(pokemon[-2])"
   ]
  }
 ],
 "metadata": {
  "celltoolbar": "Raw Cell Format",
  "kernelspec": {
   "display_name": "Python 3 (ipykernel)",
   "language": "python",
   "name": "python3"
  },
  "language_info": {
   "codemirror_mode": {
    "name": "ipython",
    "version": 3
   },
   "file_extension": ".py",
   "mimetype": "text/x-python",
   "name": "python",
   "nbconvert_exporter": "python",
   "pygments_lexer": "ipython3",
   "version": "3.9.6"
  },
  "nbTranslate": {
   "displayLangs": [
    "*"
   ],
   "hotkey": "alt-t",
   "langInMainMenu": true,
   "sourceLang": "en",
   "targetLang": "fr",
   "useGoogleTranslate": true
  }
 },
 "nbformat": 4,
 "nbformat_minor": 5
}
